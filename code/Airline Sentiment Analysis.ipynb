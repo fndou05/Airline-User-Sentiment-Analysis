{
 "cells": [
  {
   "cell_type": "markdown",
   "id": "0ee049b7",
   "metadata": {},
   "source": [
    "# Airline Sentiment Analysis (NLP)"
   ]
  },
  {
   "cell_type": "markdown",
   "id": "e2cd9a34",
   "metadata": {},
   "source": [
    "**Author:** Franko Ndou"
   ]
  },
  {
   "cell_type": "markdown",
   "id": "65072e33",
   "metadata": {},
   "source": [
    "# Overview"
   ]
  },
  {
   "cell_type": "markdown",
   "id": "b27f4a10",
   "metadata": {},
   "source": [
    "Just like any business, airlines have customers to please. Its cruical to make sure that every passenger is left with a positive experience. Social media has allowed us and others to be able to publicly express their opinions about many things including experiences and sentiment towards companies. This is incredibly useful feedback for companies as they can see what the most common complaints are as well as other factors."
   ]
  },
  {
   "cell_type": "markdown",
   "id": "fa64f71e",
   "metadata": {},
   "source": [
    "# Business Problem\n",
    "\n",
    "The CCO at JetBlue Airways is closely monitoring social media to understand customer sentiment. They've observed a surge in negative tweets and a decrease in overall customer satisfaction scores in recent months. This trend has raised concerns within JetBlue's management team, as they are committed to providing exceptional service.\n",
    "\n",
    "The CCO believes that analyzing the sentiment of user tweets can provide valuable insights into the specific issues and areas where JetBlue may be falling short of meeting customer expectations. They are particularly interested in understanding the sentiments associated with JetBlue and how it compares to competitors in the market. To address this, the CCO wants to commission a sentiment analysis NLP model and has chosen to hire you for this project. The model should perform the following tasks:\n",
    "\n",
    "1. Sentiment Classification: The model should classify user sentiment in tweets as Positive, Neutral, or Negative, providing an overall sentiment assessment.\n",
    "<br>\n",
    "\n",
    "2. Key Issue Identification: The model should identify specific issues or concerns mentioned in the negative tweets, such as flight delays, baggage mishandling, or customer service problems.\n",
    "\n",
    "The sentiment analysis NLP model that you will develop plays a crucial role in helping the CCO and the JetBlue team better understand customer sentiment, pinpoint trouble spots, and make data-driven decisions to enhance the passenger experience and maintain their competitive edge in the airline industry."
   ]
  },
  {
   "cell_type": "markdown",
   "id": "c755c36f",
   "metadata": {},
   "source": [
    "# Dataset\n",
    "\n",
    "The data was made available on [Kaggle](https://www.kaggle.com/datasets/crowdflower/twitter-airline-sentiment) . The twitter data was scraped from February 2015 for 2 weeks and contains over 14K tweets and their sentiment (positive, neutral, or negative) regarding 6 major airlines in the US."
   ]
  },
  {
   "cell_type": "markdown",
   "id": "4c4aa0bc",
   "metadata": {},
   "source": [
    "# EDA and Cleaning\n",
    "\n",
    "Its always important to start off with checking for any missingness and see what were working with."
   ]
  },
  {
   "cell_type": "code",
   "execution_count": 2,
   "id": "0afa82cd",
   "metadata": {},
   "outputs": [
    {
     "name": "stderr",
     "output_type": "stream",
     "text": [
      "[nltk_data] Downloading package punkt to /Users/ndou/nltk_data...\n",
      "[nltk_data]   Package punkt is already up-to-date!\n"
     ]
    },
    {
     "data": {
      "text/plain": [
       "True"
      ]
     },
     "execution_count": 2,
     "metadata": {},
     "output_type": "execute_result"
    }
   ],
   "source": [
    "# Importing packages\n",
    "import pandas as pd\n",
    "import sqlite3 \n",
    "import numpy as np\n",
    "\n",
    "from sklearn.preprocessing import LabelEncoder\n",
    "\n",
    "import seaborn as sns\n",
    "import matplotlib.pyplot as plt\n",
    "\n",
    "import nltk\n",
    "from nltk.tokenize import word_tokenize \n",
    "from nltk.tokenize import sent_tokenize \n",
    "nltk.download('punkt')"
   ]
  },
  {
   "cell_type": "code",
   "execution_count": 3,
   "id": "c780e700",
   "metadata": {},
   "outputs": [],
   "source": [
    "# Opening CSV and establish SQL Connection\n",
    "tweets_csv = pd.read_csv('../data/Tweets.csv')\n",
    "conn = sqlite3.connect('../data/database.sqlite')"
   ]
  },
  {
   "cell_type": "code",
   "execution_count": 4,
   "id": "59ccf282",
   "metadata": {},
   "outputs": [
    {
     "data": {
      "text/html": [
       "<div>\n",
       "<style scoped>\n",
       "    .dataframe tbody tr th:only-of-type {\n",
       "        vertical-align: middle;\n",
       "    }\n",
       "\n",
       "    .dataframe tbody tr th {\n",
       "        vertical-align: top;\n",
       "    }\n",
       "\n",
       "    .dataframe thead th {\n",
       "        text-align: right;\n",
       "    }\n",
       "</style>\n",
       "<table border=\"1\" class=\"dataframe\">\n",
       "  <thead>\n",
       "    <tr style=\"text-align: right;\">\n",
       "      <th></th>\n",
       "      <th>type</th>\n",
       "      <th>name</th>\n",
       "      <th>tbl_name</th>\n",
       "      <th>rootpage</th>\n",
       "      <th>sql</th>\n",
       "    </tr>\n",
       "  </thead>\n",
       "  <tbody>\n",
       "    <tr>\n",
       "      <th>0</th>\n",
       "      <td>table</td>\n",
       "      <td>Tweets</td>\n",
       "      <td>Tweets</td>\n",
       "      <td>2</td>\n",
       "      <td>CREATE TABLE Tweets (\\n    tweet_id INTEGER PR...</td>\n",
       "    </tr>\n",
       "  </tbody>\n",
       "</table>\n",
       "</div>"
      ],
      "text/plain": [
       "    type    name tbl_name  rootpage  \\\n",
       "0  table  Tweets   Tweets         2   \n",
       "\n",
       "                                                 sql  \n",
       "0  CREATE TABLE Tweets (\\n    tweet_id INTEGER PR...  "
      ]
     },
     "execution_count": 4,
     "metadata": {},
     "output_type": "execute_result"
    }
   ],
   "source": [
    "# Checking Schema\n",
    "pd.read_sql(\"\"\"\n",
    "    SELECT *\n",
    "    FROM sqlite_master\n",
    "    WHERE type='table';\n",
    "\"\"\", conn)"
   ]
  },
  {
   "cell_type": "code",
   "execution_count": 5,
   "id": "11397f76",
   "metadata": {},
   "outputs": [
    {
     "data": {
      "text/html": [
       "<div>\n",
       "<style scoped>\n",
       "    .dataframe tbody tr th:only-of-type {\n",
       "        vertical-align: middle;\n",
       "    }\n",
       "\n",
       "    .dataframe tbody tr th {\n",
       "        vertical-align: top;\n",
       "    }\n",
       "\n",
       "    .dataframe thead th {\n",
       "        text-align: right;\n",
       "    }\n",
       "</style>\n",
       "<table border=\"1\" class=\"dataframe\">\n",
       "  <thead>\n",
       "    <tr style=\"text-align: right;\">\n",
       "      <th></th>\n",
       "      <th>tweet_id</th>\n",
       "      <th>airline_sentiment</th>\n",
       "      <th>airline_sentiment_confidence</th>\n",
       "      <th>negativereason</th>\n",
       "      <th>negativereason_confidence</th>\n",
       "      <th>airline</th>\n",
       "      <th>airline_sentiment_gold</th>\n",
       "      <th>name</th>\n",
       "      <th>negativereason_gold</th>\n",
       "      <th>retweet_count</th>\n",
       "      <th>text</th>\n",
       "      <th>tweet_coord</th>\n",
       "      <th>tweet_created</th>\n",
       "      <th>tweet_location</th>\n",
       "      <th>user_timezone</th>\n",
       "    </tr>\n",
       "  </thead>\n",
       "  <tbody>\n",
       "    <tr>\n",
       "      <th>0</th>\n",
       "      <td>567588278875213824</td>\n",
       "      <td>neutral</td>\n",
       "      <td>1.0000</td>\n",
       "      <td></td>\n",
       "      <td></td>\n",
       "      <td>Delta</td>\n",
       "      <td></td>\n",
       "      <td>JetBlueNews</td>\n",
       "      <td></td>\n",
       "      <td>0</td>\n",
       "      <td>@JetBlue's new CEO seeks the right balance to ...</td>\n",
       "      <td></td>\n",
       "      <td>2015-02-16 23:36:05 -0800</td>\n",
       "      <td>USA</td>\n",
       "      <td>Sydney</td>\n",
       "    </tr>\n",
       "    <tr>\n",
       "      <th>1</th>\n",
       "      <td>567590027375702016</td>\n",
       "      <td>negative</td>\n",
       "      <td>1.0000</td>\n",
       "      <td>Can't Tell</td>\n",
       "      <td>0.6503</td>\n",
       "      <td>Delta</td>\n",
       "      <td></td>\n",
       "      <td>nesi_1992</td>\n",
       "      <td></td>\n",
       "      <td>0</td>\n",
       "      <td>@JetBlue is REALLY getting on my nerves !! 😡😡 ...</td>\n",
       "      <td></td>\n",
       "      <td>2015-02-16 23:43:02 -0800</td>\n",
       "      <td>undecided</td>\n",
       "      <td>Pacific Time (US &amp; Canada)</td>\n",
       "    </tr>\n",
       "    <tr>\n",
       "      <th>2</th>\n",
       "      <td>567591480085463040</td>\n",
       "      <td>negative</td>\n",
       "      <td>1.0000</td>\n",
       "      <td>Late Flight</td>\n",
       "      <td>0.346</td>\n",
       "      <td>United</td>\n",
       "      <td></td>\n",
       "      <td>CPoutloud</td>\n",
       "      <td></td>\n",
       "      <td>0</td>\n",
       "      <td>@united yes. We waited in line for almost an h...</td>\n",
       "      <td></td>\n",
       "      <td>2015-02-16 23:48:48 -0800</td>\n",
       "      <td>Washington, DC</td>\n",
       "      <td></td>\n",
       "    </tr>\n",
       "    <tr>\n",
       "      <th>3</th>\n",
       "      <td>567592368451248130</td>\n",
       "      <td>negative</td>\n",
       "      <td>1.0000</td>\n",
       "      <td>Late Flight</td>\n",
       "      <td>1</td>\n",
       "      <td>United</td>\n",
       "      <td></td>\n",
       "      <td>brenduch</td>\n",
       "      <td></td>\n",
       "      <td>0</td>\n",
       "      <td>@united the we got into the gate at IAH on tim...</td>\n",
       "      <td></td>\n",
       "      <td>2015-02-16 23:52:20 -0800</td>\n",
       "      <td></td>\n",
       "      <td>Buenos Aires</td>\n",
       "    </tr>\n",
       "    <tr>\n",
       "      <th>4</th>\n",
       "      <td>567594449874587648</td>\n",
       "      <td>negative</td>\n",
       "      <td>1.0000</td>\n",
       "      <td>Customer Service Issue</td>\n",
       "      <td>0.3451</td>\n",
       "      <td>Southwest</td>\n",
       "      <td></td>\n",
       "      <td>VahidESQ</td>\n",
       "      <td></td>\n",
       "      <td>0</td>\n",
       "      <td>@SouthwestAir its cool that my bags take a bit...</td>\n",
       "      <td></td>\n",
       "      <td>2015-02-17 00:00:36 -0800</td>\n",
       "      <td>Los Angeles, CA</td>\n",
       "      <td>Pacific Time (US &amp; Canada)</td>\n",
       "    </tr>\n",
       "    <tr>\n",
       "      <th>...</th>\n",
       "      <td>...</td>\n",
       "      <td>...</td>\n",
       "      <td>...</td>\n",
       "      <td>...</td>\n",
       "      <td>...</td>\n",
       "      <td>...</td>\n",
       "      <td>...</td>\n",
       "      <td>...</td>\n",
       "      <td>...</td>\n",
       "      <td>...</td>\n",
       "      <td>...</td>\n",
       "      <td>...</td>\n",
       "      <td>...</td>\n",
       "      <td>...</td>\n",
       "      <td>...</td>\n",
       "    </tr>\n",
       "    <tr>\n",
       "      <th>14480</th>\n",
       "      <td>570309308937842688</td>\n",
       "      <td>neutral</td>\n",
       "      <td>0.6869</td>\n",
       "      <td></td>\n",
       "      <td></td>\n",
       "      <td>Delta</td>\n",
       "      <td></td>\n",
       "      <td>Oneladyyouadore</td>\n",
       "      <td></td>\n",
       "      <td>0</td>\n",
       "      <td>@JetBlue I hope so because I fly very often an...</td>\n",
       "      <td></td>\n",
       "      <td>2015-02-24 11:48:29 -0800</td>\n",
       "      <td>Georgia</td>\n",
       "      <td>Quito</td>\n",
       "    </tr>\n",
       "    <tr>\n",
       "      <th>14481</th>\n",
       "      <td>570309340952993796</td>\n",
       "      <td>neutral</td>\n",
       "      <td>1.0000</td>\n",
       "      <td></td>\n",
       "      <td></td>\n",
       "      <td>US Airways</td>\n",
       "      <td></td>\n",
       "      <td>DebbiMcGinnis</td>\n",
       "      <td></td>\n",
       "      <td>0</td>\n",
       "      <td>@USAirways is a DM possible if you aren't foll...</td>\n",
       "      <td></td>\n",
       "      <td>2015-02-24 11:48:37 -0800</td>\n",
       "      <td>Missourah</td>\n",
       "      <td>Hawaii</td>\n",
       "    </tr>\n",
       "    <tr>\n",
       "      <th>14482</th>\n",
       "      <td>570309345281486848</td>\n",
       "      <td>positive</td>\n",
       "      <td>0.6469</td>\n",
       "      <td></td>\n",
       "      <td></td>\n",
       "      <td>Delta</td>\n",
       "      <td></td>\n",
       "      <td>jaxbra</td>\n",
       "      <td></td>\n",
       "      <td>0</td>\n",
       "      <td>@JetBlue Yesterday on my way from EWR to FLL j...</td>\n",
       "      <td></td>\n",
       "      <td>2015-02-24 11:48:38 -0800</td>\n",
       "      <td>east brunswick, nj</td>\n",
       "      <td>Atlantic Time (Canada)</td>\n",
       "    </tr>\n",
       "    <tr>\n",
       "      <th>14483</th>\n",
       "      <td>570310144459972608</td>\n",
       "      <td>negative</td>\n",
       "      <td>1.0000</td>\n",
       "      <td>Customer Service Issue</td>\n",
       "      <td>1</td>\n",
       "      <td>US Airways</td>\n",
       "      <td></td>\n",
       "      <td>GAKotsch</td>\n",
       "      <td></td>\n",
       "      <td>0</td>\n",
       "      <td>@USAirways and when will one of these agents b...</td>\n",
       "      <td></td>\n",
       "      <td>2015-02-24 11:51:48 -0800</td>\n",
       "      <td></td>\n",
       "      <td>Atlantic Time (Canada)</td>\n",
       "    </tr>\n",
       "    <tr>\n",
       "      <th>14484</th>\n",
       "      <td>570310600460525568</td>\n",
       "      <td>negative</td>\n",
       "      <td>0.6292</td>\n",
       "      <td>Flight Booking Problems</td>\n",
       "      <td>0.3146</td>\n",
       "      <td>US Airways</td>\n",
       "      <td></td>\n",
       "      <td>jhazelnut</td>\n",
       "      <td></td>\n",
       "      <td>0</td>\n",
       "      <td>@USAirways  is there a better time to call? My...</td>\n",
       "      <td></td>\n",
       "      <td>2015-02-24 11:53:37 -0800</td>\n",
       "      <td></td>\n",
       "      <td></td>\n",
       "    </tr>\n",
       "  </tbody>\n",
       "</table>\n",
       "<p>14485 rows × 15 columns</p>\n",
       "</div>"
      ],
      "text/plain": [
       "                 tweet_id airline_sentiment  airline_sentiment_confidence  \\\n",
       "0      567588278875213824           neutral                        1.0000   \n",
       "1      567590027375702016          negative                        1.0000   \n",
       "2      567591480085463040          negative                        1.0000   \n",
       "3      567592368451248130          negative                        1.0000   \n",
       "4      567594449874587648          negative                        1.0000   \n",
       "...                   ...               ...                           ...   \n",
       "14480  570309308937842688           neutral                        0.6869   \n",
       "14481  570309340952993796           neutral                        1.0000   \n",
       "14482  570309345281486848          positive                        0.6469   \n",
       "14483  570310144459972608          negative                        1.0000   \n",
       "14484  570310600460525568          negative                        0.6292   \n",
       "\n",
       "                negativereason negativereason_confidence     airline  \\\n",
       "0                                                              Delta   \n",
       "1                   Can't Tell                    0.6503       Delta   \n",
       "2                  Late Flight                     0.346      United   \n",
       "3                  Late Flight                         1      United   \n",
       "4       Customer Service Issue                    0.3451   Southwest   \n",
       "...                        ...                       ...         ...   \n",
       "14480                                                          Delta   \n",
       "14481                                                     US Airways   \n",
       "14482                                                          Delta   \n",
       "14483   Customer Service Issue                         1  US Airways   \n",
       "14484  Flight Booking Problems                    0.3146  US Airways   \n",
       "\n",
       "      airline_sentiment_gold             name negativereason_gold  \\\n",
       "0                                 JetBlueNews                       \n",
       "1                                   nesi_1992                       \n",
       "2                                   CPoutloud                       \n",
       "3                                    brenduch                       \n",
       "4                                    VahidESQ                       \n",
       "...                      ...              ...                 ...   \n",
       "14480                         Oneladyyouadore                       \n",
       "14481                           DebbiMcGinnis                       \n",
       "14482                                  jaxbra                       \n",
       "14483                                GAKotsch                       \n",
       "14484                               jhazelnut                       \n",
       "\n",
       "       retweet_count                                               text  \\\n",
       "0                  0  @JetBlue's new CEO seeks the right balance to ...   \n",
       "1                  0  @JetBlue is REALLY getting on my nerves !! 😡😡 ...   \n",
       "2                  0  @united yes. We waited in line for almost an h...   \n",
       "3                  0  @united the we got into the gate at IAH on tim...   \n",
       "4                  0  @SouthwestAir its cool that my bags take a bit...   \n",
       "...              ...                                                ...   \n",
       "14480              0  @JetBlue I hope so because I fly very often an...   \n",
       "14481              0  @USAirways is a DM possible if you aren't foll...   \n",
       "14482              0  @JetBlue Yesterday on my way from EWR to FLL j...   \n",
       "14483              0  @USAirways and when will one of these agents b...   \n",
       "14484              0  @USAirways  is there a better time to call? My...   \n",
       "\n",
       "      tweet_coord              tweet_created      tweet_location  \\\n",
       "0                  2015-02-16 23:36:05 -0800                 USA   \n",
       "1                  2015-02-16 23:43:02 -0800           undecided   \n",
       "2                  2015-02-16 23:48:48 -0800      Washington, DC   \n",
       "3                  2015-02-16 23:52:20 -0800                       \n",
       "4                  2015-02-17 00:00:36 -0800     Los Angeles, CA   \n",
       "...           ...                        ...                 ...   \n",
       "14480              2015-02-24 11:48:29 -0800             Georgia   \n",
       "14481              2015-02-24 11:48:37 -0800           Missourah   \n",
       "14482              2015-02-24 11:48:38 -0800  east brunswick, nj   \n",
       "14483              2015-02-24 11:51:48 -0800                       \n",
       "14484              2015-02-24 11:53:37 -0800                       \n",
       "\n",
       "                    user_timezone  \n",
       "0                          Sydney  \n",
       "1      Pacific Time (US & Canada)  \n",
       "2                                  \n",
       "3                    Buenos Aires  \n",
       "4      Pacific Time (US & Canada)  \n",
       "...                           ...  \n",
       "14480                       Quito  \n",
       "14481                      Hawaii  \n",
       "14482      Atlantic Time (Canada)  \n",
       "14483      Atlantic Time (Canada)  \n",
       "14484                              \n",
       "\n",
       "[14485 rows x 15 columns]"
      ]
     },
     "execution_count": 5,
     "metadata": {},
     "output_type": "execute_result"
    }
   ],
   "source": [
    "# Checking table\n",
    "pd.read_sql(\"\"\"\n",
    "    SELECT *\n",
    "    FROM Tweets\n",
    "\"\"\", conn)"
   ]
  },
  {
   "cell_type": "code",
   "execution_count": 6,
   "id": "96ab675b",
   "metadata": {},
   "outputs": [],
   "source": [
    "# Creating DF\n",
    "tweets_sql = pd.read_sql(\"\"\"\n",
    "    SELECT *\n",
    "    FROM Tweets\n",
    "\"\"\", conn)"
   ]
  },
  {
   "cell_type": "code",
   "execution_count": 7,
   "id": "b4e4bce3",
   "metadata": {},
   "outputs": [
    {
     "data": {
      "text/html": [
       "<div>\n",
       "<style scoped>\n",
       "    .dataframe tbody tr th:only-of-type {\n",
       "        vertical-align: middle;\n",
       "    }\n",
       "\n",
       "    .dataframe tbody tr th {\n",
       "        vertical-align: top;\n",
       "    }\n",
       "\n",
       "    .dataframe thead th {\n",
       "        text-align: right;\n",
       "    }\n",
       "</style>\n",
       "<table border=\"1\" class=\"dataframe\">\n",
       "  <thead>\n",
       "    <tr style=\"text-align: right;\">\n",
       "      <th></th>\n",
       "      <th>tweet_id</th>\n",
       "      <th>airline_sentiment</th>\n",
       "      <th>airline_sentiment_confidence</th>\n",
       "      <th>negativereason</th>\n",
       "      <th>negativereason_confidence</th>\n",
       "      <th>airline</th>\n",
       "      <th>airline_sentiment_gold</th>\n",
       "      <th>name</th>\n",
       "      <th>negativereason_gold</th>\n",
       "      <th>retweet_count</th>\n",
       "      <th>text</th>\n",
       "      <th>tweet_coord</th>\n",
       "      <th>tweet_created</th>\n",
       "      <th>tweet_location</th>\n",
       "      <th>user_timezone</th>\n",
       "    </tr>\n",
       "  </thead>\n",
       "  <tbody>\n",
       "    <tr>\n",
       "      <th>0</th>\n",
       "      <td>570306133677760513</td>\n",
       "      <td>neutral</td>\n",
       "      <td>1.0000</td>\n",
       "      <td>NaN</td>\n",
       "      <td>NaN</td>\n",
       "      <td>Virgin America</td>\n",
       "      <td>NaN</td>\n",
       "      <td>cairdin</td>\n",
       "      <td>NaN</td>\n",
       "      <td>0</td>\n",
       "      <td>@VirginAmerica What @dhepburn said.</td>\n",
       "      <td>NaN</td>\n",
       "      <td>2015-02-24 11:35:52 -0800</td>\n",
       "      <td>NaN</td>\n",
       "      <td>Eastern Time (US &amp; Canada)</td>\n",
       "    </tr>\n",
       "    <tr>\n",
       "      <th>1</th>\n",
       "      <td>570301130888122368</td>\n",
       "      <td>positive</td>\n",
       "      <td>0.3486</td>\n",
       "      <td>NaN</td>\n",
       "      <td>0.0000</td>\n",
       "      <td>Virgin America</td>\n",
       "      <td>NaN</td>\n",
       "      <td>jnardino</td>\n",
       "      <td>NaN</td>\n",
       "      <td>0</td>\n",
       "      <td>@VirginAmerica plus you've added commercials t...</td>\n",
       "      <td>NaN</td>\n",
       "      <td>2015-02-24 11:15:59 -0800</td>\n",
       "      <td>NaN</td>\n",
       "      <td>Pacific Time (US &amp; Canada)</td>\n",
       "    </tr>\n",
       "    <tr>\n",
       "      <th>2</th>\n",
       "      <td>570301083672813571</td>\n",
       "      <td>neutral</td>\n",
       "      <td>0.6837</td>\n",
       "      <td>NaN</td>\n",
       "      <td>NaN</td>\n",
       "      <td>Virgin America</td>\n",
       "      <td>NaN</td>\n",
       "      <td>yvonnalynn</td>\n",
       "      <td>NaN</td>\n",
       "      <td>0</td>\n",
       "      <td>@VirginAmerica I didn't today... Must mean I n...</td>\n",
       "      <td>NaN</td>\n",
       "      <td>2015-02-24 11:15:48 -0800</td>\n",
       "      <td>Lets Play</td>\n",
       "      <td>Central Time (US &amp; Canada)</td>\n",
       "    </tr>\n",
       "    <tr>\n",
       "      <th>3</th>\n",
       "      <td>570301031407624196</td>\n",
       "      <td>negative</td>\n",
       "      <td>1.0000</td>\n",
       "      <td>Bad Flight</td>\n",
       "      <td>0.7033</td>\n",
       "      <td>Virgin America</td>\n",
       "      <td>NaN</td>\n",
       "      <td>jnardino</td>\n",
       "      <td>NaN</td>\n",
       "      <td>0</td>\n",
       "      <td>@VirginAmerica it's really aggressive to blast...</td>\n",
       "      <td>NaN</td>\n",
       "      <td>2015-02-24 11:15:36 -0800</td>\n",
       "      <td>NaN</td>\n",
       "      <td>Pacific Time (US &amp; Canada)</td>\n",
       "    </tr>\n",
       "    <tr>\n",
       "      <th>4</th>\n",
       "      <td>570300817074462722</td>\n",
       "      <td>negative</td>\n",
       "      <td>1.0000</td>\n",
       "      <td>Can't Tell</td>\n",
       "      <td>1.0000</td>\n",
       "      <td>Virgin America</td>\n",
       "      <td>NaN</td>\n",
       "      <td>jnardino</td>\n",
       "      <td>NaN</td>\n",
       "      <td>0</td>\n",
       "      <td>@VirginAmerica and it's a really big bad thing...</td>\n",
       "      <td>NaN</td>\n",
       "      <td>2015-02-24 11:14:45 -0800</td>\n",
       "      <td>NaN</td>\n",
       "      <td>Pacific Time (US &amp; Canada)</td>\n",
       "    </tr>\n",
       "    <tr>\n",
       "      <th>...</th>\n",
       "      <td>...</td>\n",
       "      <td>...</td>\n",
       "      <td>...</td>\n",
       "      <td>...</td>\n",
       "      <td>...</td>\n",
       "      <td>...</td>\n",
       "      <td>...</td>\n",
       "      <td>...</td>\n",
       "      <td>...</td>\n",
       "      <td>...</td>\n",
       "      <td>...</td>\n",
       "      <td>...</td>\n",
       "      <td>...</td>\n",
       "      <td>...</td>\n",
       "      <td>...</td>\n",
       "    </tr>\n",
       "    <tr>\n",
       "      <th>14635</th>\n",
       "      <td>569587686496825344</td>\n",
       "      <td>positive</td>\n",
       "      <td>0.3487</td>\n",
       "      <td>NaN</td>\n",
       "      <td>0.0000</td>\n",
       "      <td>American</td>\n",
       "      <td>NaN</td>\n",
       "      <td>KristenReenders</td>\n",
       "      <td>NaN</td>\n",
       "      <td>0</td>\n",
       "      <td>@AmericanAir thank you we got on a different f...</td>\n",
       "      <td>NaN</td>\n",
       "      <td>2015-02-22 12:01:01 -0800</td>\n",
       "      <td>NaN</td>\n",
       "      <td>NaN</td>\n",
       "    </tr>\n",
       "    <tr>\n",
       "      <th>14636</th>\n",
       "      <td>569587371693355008</td>\n",
       "      <td>negative</td>\n",
       "      <td>1.0000</td>\n",
       "      <td>Customer Service Issue</td>\n",
       "      <td>1.0000</td>\n",
       "      <td>American</td>\n",
       "      <td>NaN</td>\n",
       "      <td>itsropes</td>\n",
       "      <td>NaN</td>\n",
       "      <td>0</td>\n",
       "      <td>@AmericanAir leaving over 20 minutes Late Flig...</td>\n",
       "      <td>NaN</td>\n",
       "      <td>2015-02-22 11:59:46 -0800</td>\n",
       "      <td>Texas</td>\n",
       "      <td>NaN</td>\n",
       "    </tr>\n",
       "    <tr>\n",
       "      <th>14637</th>\n",
       "      <td>569587242672398336</td>\n",
       "      <td>neutral</td>\n",
       "      <td>1.0000</td>\n",
       "      <td>NaN</td>\n",
       "      <td>NaN</td>\n",
       "      <td>American</td>\n",
       "      <td>NaN</td>\n",
       "      <td>sanyabun</td>\n",
       "      <td>NaN</td>\n",
       "      <td>0</td>\n",
       "      <td>@AmericanAir Please bring American Airlines to...</td>\n",
       "      <td>NaN</td>\n",
       "      <td>2015-02-22 11:59:15 -0800</td>\n",
       "      <td>Nigeria,lagos</td>\n",
       "      <td>NaN</td>\n",
       "    </tr>\n",
       "    <tr>\n",
       "      <th>14638</th>\n",
       "      <td>569587188687634433</td>\n",
       "      <td>negative</td>\n",
       "      <td>1.0000</td>\n",
       "      <td>Customer Service Issue</td>\n",
       "      <td>0.6659</td>\n",
       "      <td>American</td>\n",
       "      <td>NaN</td>\n",
       "      <td>SraJackson</td>\n",
       "      <td>NaN</td>\n",
       "      <td>0</td>\n",
       "      <td>@AmericanAir you have my money, you change my ...</td>\n",
       "      <td>NaN</td>\n",
       "      <td>2015-02-22 11:59:02 -0800</td>\n",
       "      <td>New Jersey</td>\n",
       "      <td>Eastern Time (US &amp; Canada)</td>\n",
       "    </tr>\n",
       "    <tr>\n",
       "      <th>14639</th>\n",
       "      <td>569587140490866689</td>\n",
       "      <td>neutral</td>\n",
       "      <td>0.6771</td>\n",
       "      <td>NaN</td>\n",
       "      <td>0.0000</td>\n",
       "      <td>American</td>\n",
       "      <td>NaN</td>\n",
       "      <td>daviddtwu</td>\n",
       "      <td>NaN</td>\n",
       "      <td>0</td>\n",
       "      <td>@AmericanAir we have 8 ppl so we need 2 know h...</td>\n",
       "      <td>NaN</td>\n",
       "      <td>2015-02-22 11:58:51 -0800</td>\n",
       "      <td>dallas, TX</td>\n",
       "      <td>NaN</td>\n",
       "    </tr>\n",
       "  </tbody>\n",
       "</table>\n",
       "<p>14640 rows × 15 columns</p>\n",
       "</div>"
      ],
      "text/plain": [
       "                 tweet_id airline_sentiment  airline_sentiment_confidence  \\\n",
       "0      570306133677760513           neutral                        1.0000   \n",
       "1      570301130888122368          positive                        0.3486   \n",
       "2      570301083672813571           neutral                        0.6837   \n",
       "3      570301031407624196          negative                        1.0000   \n",
       "4      570300817074462722          negative                        1.0000   \n",
       "...                   ...               ...                           ...   \n",
       "14635  569587686496825344          positive                        0.3487   \n",
       "14636  569587371693355008          negative                        1.0000   \n",
       "14637  569587242672398336           neutral                        1.0000   \n",
       "14638  569587188687634433          negative                        1.0000   \n",
       "14639  569587140490866689           neutral                        0.6771   \n",
       "\n",
       "               negativereason  negativereason_confidence         airline  \\\n",
       "0                         NaN                        NaN  Virgin America   \n",
       "1                         NaN                     0.0000  Virgin America   \n",
       "2                         NaN                        NaN  Virgin America   \n",
       "3                  Bad Flight                     0.7033  Virgin America   \n",
       "4                  Can't Tell                     1.0000  Virgin America   \n",
       "...                       ...                        ...             ...   \n",
       "14635                     NaN                     0.0000        American   \n",
       "14636  Customer Service Issue                     1.0000        American   \n",
       "14637                     NaN                        NaN        American   \n",
       "14638  Customer Service Issue                     0.6659        American   \n",
       "14639                     NaN                     0.0000        American   \n",
       "\n",
       "      airline_sentiment_gold             name negativereason_gold  \\\n",
       "0                        NaN          cairdin                 NaN   \n",
       "1                        NaN         jnardino                 NaN   \n",
       "2                        NaN       yvonnalynn                 NaN   \n",
       "3                        NaN         jnardino                 NaN   \n",
       "4                        NaN         jnardino                 NaN   \n",
       "...                      ...              ...                 ...   \n",
       "14635                    NaN  KristenReenders                 NaN   \n",
       "14636                    NaN         itsropes                 NaN   \n",
       "14637                    NaN         sanyabun                 NaN   \n",
       "14638                    NaN       SraJackson                 NaN   \n",
       "14639                    NaN        daviddtwu                 NaN   \n",
       "\n",
       "       retweet_count                                               text  \\\n",
       "0                  0                @VirginAmerica What @dhepburn said.   \n",
       "1                  0  @VirginAmerica plus you've added commercials t...   \n",
       "2                  0  @VirginAmerica I didn't today... Must mean I n...   \n",
       "3                  0  @VirginAmerica it's really aggressive to blast...   \n",
       "4                  0  @VirginAmerica and it's a really big bad thing...   \n",
       "...              ...                                                ...   \n",
       "14635              0  @AmericanAir thank you we got on a different f...   \n",
       "14636              0  @AmericanAir leaving over 20 minutes Late Flig...   \n",
       "14637              0  @AmericanAir Please bring American Airlines to...   \n",
       "14638              0  @AmericanAir you have my money, you change my ...   \n",
       "14639              0  @AmericanAir we have 8 ppl so we need 2 know h...   \n",
       "\n",
       "      tweet_coord              tweet_created tweet_location  \\\n",
       "0             NaN  2015-02-24 11:35:52 -0800            NaN   \n",
       "1             NaN  2015-02-24 11:15:59 -0800            NaN   \n",
       "2             NaN  2015-02-24 11:15:48 -0800      Lets Play   \n",
       "3             NaN  2015-02-24 11:15:36 -0800            NaN   \n",
       "4             NaN  2015-02-24 11:14:45 -0800            NaN   \n",
       "...           ...                        ...            ...   \n",
       "14635         NaN  2015-02-22 12:01:01 -0800            NaN   \n",
       "14636         NaN  2015-02-22 11:59:46 -0800          Texas   \n",
       "14637         NaN  2015-02-22 11:59:15 -0800  Nigeria,lagos   \n",
       "14638         NaN  2015-02-22 11:59:02 -0800     New Jersey   \n",
       "14639         NaN  2015-02-22 11:58:51 -0800     dallas, TX   \n",
       "\n",
       "                    user_timezone  \n",
       "0      Eastern Time (US & Canada)  \n",
       "1      Pacific Time (US & Canada)  \n",
       "2      Central Time (US & Canada)  \n",
       "3      Pacific Time (US & Canada)  \n",
       "4      Pacific Time (US & Canada)  \n",
       "...                           ...  \n",
       "14635                         NaN  \n",
       "14636                         NaN  \n",
       "14637                         NaN  \n",
       "14638  Eastern Time (US & Canada)  \n",
       "14639                         NaN  \n",
       "\n",
       "[14640 rows x 15 columns]"
      ]
     },
     "execution_count": 7,
     "metadata": {},
     "output_type": "execute_result"
    }
   ],
   "source": [
    "# Checking CSV DF\n",
    "tweets_csv"
   ]
  },
  {
   "cell_type": "markdown",
   "id": "6b5526c8",
   "metadata": {},
   "source": [
    "They seem to be the same dataset, we should check so that were not overwhelming ourselves"
   ]
  },
  {
   "cell_type": "code",
   "execution_count": 8,
   "id": "c13b3dcc",
   "metadata": {},
   "outputs": [
    {
     "name": "stdout",
     "output_type": "stream",
     "text": [
      "True\n"
     ]
    }
   ],
   "source": [
    "if tweets_sql.columns.equals(tweets_csv.columns):\n",
    "    print(True)\n",
    "else:\n",
    "    print(False)"
   ]
  },
  {
   "cell_type": "code",
   "execution_count": 9,
   "id": "bb1fed16",
   "metadata": {},
   "outputs": [
    {
     "name": "stdout",
     "output_type": "stream",
     "text": [
      "<class 'pandas.core.frame.DataFrame'>\n",
      "RangeIndex: 14640 entries, 0 to 14639\n",
      "Data columns (total 15 columns):\n",
      " #   Column                        Non-Null Count  Dtype  \n",
      "---  ------                        --------------  -----  \n",
      " 0   tweet_id                      14640 non-null  int64  \n",
      " 1   airline_sentiment             14640 non-null  object \n",
      " 2   airline_sentiment_confidence  14640 non-null  float64\n",
      " 3   negativereason                9178 non-null   object \n",
      " 4   negativereason_confidence     10522 non-null  float64\n",
      " 5   airline                       14640 non-null  object \n",
      " 6   airline_sentiment_gold        40 non-null     object \n",
      " 7   name                          14640 non-null  object \n",
      " 8   negativereason_gold           32 non-null     object \n",
      " 9   retweet_count                 14640 non-null  int64  \n",
      " 10  text                          14640 non-null  object \n",
      " 11  tweet_coord                   1019 non-null   object \n",
      " 12  tweet_created                 14640 non-null  object \n",
      " 13  tweet_location                9907 non-null   object \n",
      " 14  user_timezone                 9820 non-null   object \n",
      "dtypes: float64(2), int64(2), object(11)\n",
      "memory usage: 1.7+ MB\n"
     ]
    }
   ],
   "source": [
    "# Looking for missingness\n",
    "tweets_csv.info()"
   ]
  },
  {
   "cell_type": "code",
   "execution_count": 10,
   "id": "de43f28c",
   "metadata": {},
   "outputs": [
    {
     "data": {
      "text/plain": [
       "tweet_id                            0\n",
       "airline_sentiment                   0\n",
       "airline_sentiment_confidence        0\n",
       "negativereason                   5462\n",
       "negativereason_confidence        4118\n",
       "airline                             0\n",
       "airline_sentiment_gold          14600\n",
       "name                                0\n",
       "negativereason_gold             14608\n",
       "retweet_count                       0\n",
       "text                                0\n",
       "tweet_coord                     13621\n",
       "tweet_created                       0\n",
       "tweet_location                   4733\n",
       "user_timezone                    4820\n",
       "dtype: int64"
      ]
     },
     "execution_count": 10,
     "metadata": {},
     "output_type": "execute_result"
    }
   ],
   "source": [
    "tweets_csv.isna().sum()"
   ]
  },
  {
   "cell_type": "code",
   "execution_count": 11,
   "id": "4590d98c",
   "metadata": {},
   "outputs": [
    {
     "name": "stdout",
     "output_type": "stream",
     "text": [
      "<class 'pandas.core.frame.DataFrame'>\n",
      "RangeIndex: 14485 entries, 0 to 14484\n",
      "Data columns (total 15 columns):\n",
      " #   Column                        Non-Null Count  Dtype  \n",
      "---  ------                        --------------  -----  \n",
      " 0   tweet_id                      14485 non-null  int64  \n",
      " 1   airline_sentiment             14485 non-null  object \n",
      " 2   airline_sentiment_confidence  14485 non-null  float64\n",
      " 3   negativereason                14485 non-null  object \n",
      " 4   negativereason_confidence     14485 non-null  object \n",
      " 5   airline                       14485 non-null  object \n",
      " 6   airline_sentiment_gold        14485 non-null  object \n",
      " 7   name                          14485 non-null  object \n",
      " 8   negativereason_gold           14485 non-null  object \n",
      " 9   retweet_count                 14485 non-null  int64  \n",
      " 10  text                          14485 non-null  object \n",
      " 11  tweet_coord                   14485 non-null  object \n",
      " 12  tweet_created                 14485 non-null  object \n",
      " 13  tweet_location                14485 non-null  object \n",
      " 14  user_timezone                 14485 non-null  object \n",
      "dtypes: float64(1), int64(2), object(12)\n",
      "memory usage: 1.7+ MB\n"
     ]
    }
   ],
   "source": [
    "# Looking for Missingness\n",
    "tweets_sql.info()"
   ]
  },
  {
   "cell_type": "code",
   "execution_count": 12,
   "id": "6c6850e3",
   "metadata": {},
   "outputs": [
    {
     "data": {
      "text/plain": [
       "tweet_id                        0\n",
       "airline_sentiment               0\n",
       "airline_sentiment_confidence    0\n",
       "negativereason                  0\n",
       "negativereason_confidence       0\n",
       "airline                         0\n",
       "airline_sentiment_gold          0\n",
       "name                            0\n",
       "negativereason_gold             0\n",
       "retweet_count                   0\n",
       "text                            0\n",
       "tweet_coord                     0\n",
       "tweet_created                   0\n",
       "tweet_location                  0\n",
       "user_timezone                   0\n",
       "dtype: int64"
      ]
     },
     "execution_count": 12,
     "metadata": {},
     "output_type": "execute_result"
    }
   ],
   "source": [
    "tweets_sql.isna().sum()"
   ]
  },
  {
   "cell_type": "markdown",
   "id": "fde43792",
   "metadata": {},
   "source": [
    "Judging by the fact that we have observed missingness within the SQL dataframe yet our .info() and .isna() tells us there likely isnt. We will be using the CSV file from now on. The CSV is much more straightfoward and will be easier for us to work with. They have the exact same columns and nearly the same number of rows.\n",
    "\n",
    "I have a strong suspicion that these are likely the same file but im going to see if they match rows"
   ]
  },
  {
   "cell_type": "code",
   "execution_count": 13,
   "id": "affb5bcf",
   "metadata": {},
   "outputs": [
    {
     "name": "stdout",
     "output_type": "stream",
     "text": [
      "True\n"
     ]
    }
   ],
   "source": [
    "# Define the common columns to compare \n",
    "common_columns = ['tweet_id', 'airline_sentiment', 'airline']\n",
    "\n",
    "# Perform an inner join based on the common columns\n",
    "matching_rows = pd.merge(tweets_csv, tweets_sql, on=common_columns, how='inner')\n",
    "\n",
    "# Check if there are matching rows\n",
    "if not matching_rows.empty:\n",
    "    print(True)\n",
    "else:\n",
    "    print(False)\n"
   ]
  },
  {
   "cell_type": "markdown",
   "id": "95a3ccb4",
   "metadata": {},
   "source": [
    "Okay well now we know its the same. Its time for us to clean up the DataFrame"
   ]
  },
  {
   "cell_type": "code",
   "execution_count": 14,
   "id": "b94992ee",
   "metadata": {},
   "outputs": [],
   "source": [
    "df = tweets_csv "
   ]
  },
  {
   "cell_type": "markdown",
   "id": "4859ffeb",
   "metadata": {},
   "source": [
    "Are these NaN because theres no negative review attaced to it or becuase its simply not a negative review?"
   ]
  },
  {
   "cell_type": "code",
   "execution_count": 15,
   "id": "88b0ca3a",
   "metadata": {},
   "outputs": [
    {
     "name": "stdout",
     "output_type": "stream",
     "text": [
      "There are no negative reviews with NaN negative reasons.\n"
     ]
    }
   ],
   "source": [
    "negative_reviews_with_nan_reason = df[(df['airline_sentiment'] == 'negative') & df['negativereason'].isna()]\n",
    "if not negative_reviews_with_nan_reason.empty:\n",
    "    print(\"There are negative reviews with NaN negative reasons.\")\n",
    "else:\n",
    "    print(\"There are no negative reviews with NaN negative reasons.\")"
   ]
  },
  {
   "cell_type": "code",
   "execution_count": 16,
   "id": "3027ab42",
   "metadata": {},
   "outputs": [],
   "source": [
    "# NaN is only seen in non-negative reviews, we can just fill this in with N/A\n",
    "df['negativereason'].fillna('N/A', inplace=True)"
   ]
  },
  {
   "cell_type": "code",
   "execution_count": 17,
   "id": "e6b576d2",
   "metadata": {},
   "outputs": [],
   "source": [
    "#Dropping all columns that are unnecessary\n",
    "columns_to_drop = ['airline_sentiment_gold', 'negativereason_gold', 'tweet_coord', \\\n",
    "                   'airline_sentiment_confidence', 'negativereason_confidence', 'user_timezone']\n",
    "df.drop(columns=columns_to_drop, inplace=True)\n",
    "\n",
    "# We want to be able to tell where these reviews are coming from so Im willing to drop some rows\n",
    "df.dropna(subset=['tweet_location'], inplace=True)"
   ]
  },
  {
   "cell_type": "code",
   "execution_count": 18,
   "id": "5f6924f7",
   "metadata": {},
   "outputs": [
    {
     "name": "stdout",
     "output_type": "stream",
     "text": [
      "<class 'pandas.core.frame.DataFrame'>\n",
      "Index: 9907 entries, 2 to 14639\n",
      "Data columns (total 9 columns):\n",
      " #   Column             Non-Null Count  Dtype                    \n",
      "---  ------             --------------  -----                    \n",
      " 0   tweet_id           9907 non-null   int64                    \n",
      " 1   airline_sentiment  9907 non-null   object                   \n",
      " 2   negativereason     9907 non-null   object                   \n",
      " 3   airline            9907 non-null   object                   \n",
      " 4   name               9907 non-null   object                   \n",
      " 5   retweet_count      9907 non-null   int64                    \n",
      " 6   text               9907 non-null   object                   \n",
      " 7   tweet_created      9907 non-null   datetime64[ns, UTC-08:00]\n",
      " 8   tweet_location     9907 non-null   object                   \n",
      "dtypes: datetime64[ns, UTC-08:00](1), int64(2), object(6)\n",
      "memory usage: 774.0+ KB\n"
     ]
    }
   ],
   "source": [
    "df['tweet_created'] = pd.to_datetime(df['tweet_created'], format='%Y-%m-%d %H:%M:%S %z')\n",
    "df.info()"
   ]
  },
  {
   "cell_type": "code",
   "execution_count": 19,
   "id": "2c8947d4",
   "metadata": {},
   "outputs": [],
   "source": [
    "# Create a LabelEncoder\n",
    "label_encoder = LabelEncoder()\n",
    "\n",
    "# Fit and transform the 'airline_sentiment' column\n",
    "df['airline_sentiment'] = label_encoder.fit_transform(df['airline_sentiment'])\n",
    "\n",
    "# Mapping of labels\n",
    "label_mapping = {0: 'negative', 1: 'neutral', 2: 'positive'}"
   ]
  },
  {
   "cell_type": "markdown",
   "id": "9050fb0f",
   "metadata": {},
   "source": [
    "## Visualizng the dataset"
   ]
  },
  {
   "cell_type": "code",
   "execution_count": 22,
   "id": "64e6b69f",
   "metadata": {},
   "outputs": [
    {
     "data": {
      "image/png": "[encoded data removed]",
      "text/plain": [
       "<Figure size 1000x600 with 1 Axes>"
      ]
     },
     "metadata": {},
     "output_type": "display_data"
    }
   ],
   "source": [
    "# Create a countplot to visualize the distribution of tweets by airline\n",
    "plt.figure(figsize=(10, 6))\n",
    "sns.countplot(data=df, x='airline', order=df['airline'].value_counts().index, palette='viridis')\n",
    "\n",
    "# Set labels and title\n",
    "plt.xlabel('Airline')\n",
    "plt.ylabel('Number of Tweets')\n",
    "plt.title('Distribution of Tweets by Airline')\n",
    "\n",
    "# Rotate x-axis labels for better readability\n",
    "plt.xticks(rotation=45)\n",
    "\n",
    "# Show the plot\n",
    "plt.show()"
   ]
  },
  {
   "cell_type": "markdown",
   "id": "29cd2534",
   "metadata": {},
   "source": [
    "It seems like United Airlines has the most tweets by far, The rest are closely related expect Virgin America which is significantly lower than the rest. \n",
    "\n",
    "This makes sense as not only is it a budget airline, its relatively young and been defunct since 2018. 2004-2018 is not a long time compared to United for example which has been around for over 90 years."
   ]
  },
  {
   "cell_type": "code",
   "execution_count": 32,
   "id": "2034ba3b",
   "metadata": {},
   "outputs": [
    {
     "data": {
      "image/png": "[encoded data removed]",
      "text/plain": [
       "<Figure size 1000x600 with 1 Axes>"
      ]
     },
     "metadata": {},
     "output_type": "display_data"
    }
   ],
   "source": [
    "import seaborn as sns\n",
    "import matplotlib.pyplot as plt\n",
    "\n",
    "# Create a countplot to show the distribution of airline sentiment based on airlines\n",
    "plt.figure(figsize=(10, 6))\n",
    "sns.countplot(x=\"airline\", hue=\"airline_sentiment\", data=df, palette=\"pastel\")\n",
    "plt.title(\"Distribution of Airline Sentiment by Airline\")\n",
    "plt.xlabel(\"Airline\")\n",
    "plt.ylabel(\"Count\")\n",
    "plt.xticks(rotation=45)  # Rotate x-axis labels for better readability\n",
    "\n",
    "# Show the plot\n",
    "plt.legend(title=\"Sentiment\", labels=[\"Negative\", \"Neutral\", \"Positive\"])\n",
    "plt.show()\n"
   ]
  },
  {
   "cell_type": "markdown",
   "id": "6da21883",
   "metadata": {},
   "source": [
    "Again, the more prevelant airlines show their dominance. However theres a massive amount of negative reviews for them as well. Compared to Southwest and Delta which also have a majority negative but their set is much more balanced."
   ]
  },
  {
   "cell_type": "code",
   "execution_count": 33,
   "id": "68cf1508",
   "metadata": {},
   "outputs": [
    {
     "data": {
      "image/png": "[encoded data removed]",
      "text/plain": [
       "<Figure size 600x600 with 1 Axes>"
      ]
     },
     "metadata": {},
     "output_type": "display_data"
    }
   ],
   "source": [
    "# Count the occurrences of each sentiment label\n",
    "sentiment_counts = df['airline_sentiment'].value_counts()\n",
    "\n",
    "# Define the custom labels\n",
    "custom_labels = ['Negative', 'Neutral', 'Positive']\n",
    "\n",
    "# Create a dictionary to map the existing labels to custom labels\n",
    "label_mapping = {0: 'Negative', 1: 'Neutral', 2: 'Positive'}\n",
    "\n",
    "# Apply the custom labels to the Series\n",
    "sentiment_counts.index = sentiment_counts.index.map(label_mapping)\n",
    "\n",
    "# Define colors\n",
    "colors = [\"lightcoral\", \"lightskyblue\", \"lightgreen\"]\n",
    "\n",
    "# Create the pie chart\n",
    "plt.figure(figsize=(6, 6))\n",
    "plt.pie(sentiment_counts, labels=custom_labels, autopct='%1.1f%%', colors=colors, startangle=140)\n",
    "plt.title(\"Distribution of Airline Sentiment\")\n",
    "plt.axis('equal')\n",
    "plt.show()"
   ]
  },
  {
   "cell_type": "markdown",
   "id": "2aced83c",
   "metadata": {},
   "source": [
    "There are way more negative tweets than positive. This makes sense if you look at it from a psychological perspective; humans naturally like to complain or vent their frustrations. Im sure we all have been there where we bad mouthed a service we had recieved but its not often that were so estatic with the service that we recieve that we decide to post about it."
   ]
  },
  {
   "cell_type": "code",
   "execution_count": 26,
   "id": "7279d4f3",
   "metadata": {
    "scrolled": false
   },
   "outputs": [
    {
     "data": {
      "image/png": "[encoded data removed]",
      "text/plain": [
       "<Figure size 1200x600 with 1 Axes>"
      ]
     },
     "metadata": {},
     "output_type": "display_data"
    }
   ],
   "source": [
    "# Filter out the 'N/A' value\n",
    "negative_reasons = df[df['negativereason'] != 'N/A']\n",
    "\n",
    "# Calculate the proportions\n",
    "proportions = negative_reasons['negativereason'].value_counts(normalize=True)\n",
    "\n",
    "# Sort the proportions in descending order\n",
    "proportions = proportions.sort_values(ascending=True)\n",
    "\n",
    "# Create a horizontal bar chart\n",
    "plt.figure(figsize=(12, 6))\n",
    "proportions.plot(kind='barh')\n",
    "plt.xlabel('Proportion of Tweets')\n",
    "plt.ylabel('Negative Reason')\n",
    "plt.title('Distribution of Negative Reasons')\n",
    "plt.grid(axis='x')\n",
    "plt.show()\n"
   ]
  },
  {
   "cell_type": "markdown",
   "id": "711cf722",
   "metadata": {},
   "source": [
    "Customer service issues cause most bad tweets and by a long shot. The rest pale in comparison. Late flights are especially frustrating as well. People make reservations, they create expectations, and when they are let down they deserve to be upset.\n",
    "\n",
    "Focusing on reducing these two will likely greatly reduce negative reviews"
   ]
  },
  {
   "cell_type": "markdown",
   "id": "592f6b38",
   "metadata": {},
   "source": [
    "# Pre-Processing"
   ]
  },
  {
   "cell_type": "markdown",
   "id": "117a9b3c",
   "metadata": {},
   "source": [
    "## Tokenization"
   ]
  }
 ],
 "metadata": {
  "kernelspec": {
   "display_name": "Python (learn-env)",
   "language": "python",
   "name": "learn-env"
  },
  "language_info": {
   "codemirror_mode": {
    "name": "ipython",
    "version": 3
   },
   "file_extension": ".py",
   "mimetype": "text/x-python",
   "name": "python",
   "nbconvert_exporter": "python",
   "pygments_lexer": "ipython3",
   "version": "3.9.16"
  }
 },
 "nbformat": 4,
 "nbformat_minor": 5
}
